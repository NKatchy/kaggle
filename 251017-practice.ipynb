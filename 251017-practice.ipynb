{
 "cells": [
  {
   "cell_type": "code",
   "execution_count": 1,
   "id": "2aff7878",
   "metadata": {
    "execution": {
     "iopub.execute_input": "2025-10-19T07:24:43.547939Z",
     "iopub.status.busy": "2025-10-19T07:24:43.547534Z",
     "iopub.status.idle": "2025-10-19T07:24:53.829701Z",
     "shell.execute_reply": "2025-10-19T07:24:53.828642Z"
    },
    "papermill": {
     "duration": 10.289848,
     "end_time": "2025-10-19T07:24:53.831466",
     "exception": false,
     "start_time": "2025-10-19T07:24:43.541618",
     "status": "completed"
    },
    "tags": []
   },
   "outputs": [],
   "source": [
    "#ライブラリをインポート\n",
    "import pandas as pd\n",
    "import numpy as np\n",
    "from matplotlib import pyplot as plt\n",
    "import seaborn as sb\n",
    "import lightgbm as lgb\n",
    "import seaborn as sns\n",
    "from sklearn.model_selection import StratifiedKFold, cross_val_score\n",
    "from sklearn.ensemble import RandomForestClassifier"
   ]
  },
  {
   "cell_type": "code",
   "execution_count": 2,
   "id": "c8b7bfdd",
   "metadata": {
    "execution": {
     "iopub.execute_input": "2025-10-19T07:24:53.840701Z",
     "iopub.status.busy": "2025-10-19T07:24:53.839940Z",
     "iopub.status.idle": "2025-10-19T07:24:53.902195Z",
     "shell.execute_reply": "2025-10-19T07:24:53.901303Z"
    },
    "papermill": {
     "duration": 0.068174,
     "end_time": "2025-10-19T07:24:53.903700",
     "exception": false,
     "start_time": "2025-10-19T07:24:53.835526",
     "status": "completed"
    },
    "tags": []
   },
   "outputs": [
    {
     "data": {
      "text/html": [
       "<div>\n",
       "<style scoped>\n",
       "    .dataframe tbody tr th:only-of-type {\n",
       "        vertical-align: middle;\n",
       "    }\n",
       "\n",
       "    .dataframe tbody tr th {\n",
       "        vertical-align: top;\n",
       "    }\n",
       "\n",
       "    .dataframe thead th {\n",
       "        text-align: right;\n",
       "    }\n",
       "</style>\n",
       "<table border=\"1\" class=\"dataframe\">\n",
       "  <thead>\n",
       "    <tr style=\"text-align: right;\">\n",
       "      <th></th>\n",
       "      <th>PassengerId</th>\n",
       "      <th>Survived</th>\n",
       "      <th>Pclass</th>\n",
       "      <th>Name</th>\n",
       "      <th>Sex</th>\n",
       "      <th>Age</th>\n",
       "      <th>SibSp</th>\n",
       "      <th>Parch</th>\n",
       "      <th>Ticket</th>\n",
       "      <th>Fare</th>\n",
       "      <th>Cabin</th>\n",
       "      <th>Embarked</th>\n",
       "    </tr>\n",
       "  </thead>\n",
       "  <tbody>\n",
       "    <tr>\n",
       "      <th>0</th>\n",
       "      <td>1</td>\n",
       "      <td>0.0</td>\n",
       "      <td>3</td>\n",
       "      <td>Braund, Mr. Owen Harris</td>\n",
       "      <td>male</td>\n",
       "      <td>22.0</td>\n",
       "      <td>1</td>\n",
       "      <td>0</td>\n",
       "      <td>A/5 21171</td>\n",
       "      <td>7.2500</td>\n",
       "      <td>NaN</td>\n",
       "      <td>S</td>\n",
       "    </tr>\n",
       "    <tr>\n",
       "      <th>1</th>\n",
       "      <td>2</td>\n",
       "      <td>1.0</td>\n",
       "      <td>1</td>\n",
       "      <td>Cumings, Mrs. John Bradley (Florence Briggs Th...</td>\n",
       "      <td>female</td>\n",
       "      <td>38.0</td>\n",
       "      <td>1</td>\n",
       "      <td>0</td>\n",
       "      <td>PC 17599</td>\n",
       "      <td>71.2833</td>\n",
       "      <td>C85</td>\n",
       "      <td>C</td>\n",
       "    </tr>\n",
       "    <tr>\n",
       "      <th>2</th>\n",
       "      <td>3</td>\n",
       "      <td>1.0</td>\n",
       "      <td>3</td>\n",
       "      <td>Heikkinen, Miss. Laina</td>\n",
       "      <td>female</td>\n",
       "      <td>26.0</td>\n",
       "      <td>0</td>\n",
       "      <td>0</td>\n",
       "      <td>STON/O2. 3101282</td>\n",
       "      <td>7.9250</td>\n",
       "      <td>NaN</td>\n",
       "      <td>S</td>\n",
       "    </tr>\n",
       "    <tr>\n",
       "      <th>3</th>\n",
       "      <td>4</td>\n",
       "      <td>1.0</td>\n",
       "      <td>1</td>\n",
       "      <td>Futrelle, Mrs. Jacques Heath (Lily May Peel)</td>\n",
       "      <td>female</td>\n",
       "      <td>35.0</td>\n",
       "      <td>1</td>\n",
       "      <td>0</td>\n",
       "      <td>113803</td>\n",
       "      <td>53.1000</td>\n",
       "      <td>C123</td>\n",
       "      <td>S</td>\n",
       "    </tr>\n",
       "    <tr>\n",
       "      <th>4</th>\n",
       "      <td>5</td>\n",
       "      <td>0.0</td>\n",
       "      <td>3</td>\n",
       "      <td>Allen, Mr. William Henry</td>\n",
       "      <td>male</td>\n",
       "      <td>35.0</td>\n",
       "      <td>0</td>\n",
       "      <td>0</td>\n",
       "      <td>373450</td>\n",
       "      <td>8.0500</td>\n",
       "      <td>NaN</td>\n",
       "      <td>S</td>\n",
       "    </tr>\n",
       "  </tbody>\n",
       "</table>\n",
       "</div>"
      ],
      "text/plain": [
       "   PassengerId  Survived  Pclass  \\\n",
       "0            1       0.0       3   \n",
       "1            2       1.0       1   \n",
       "2            3       1.0       3   \n",
       "3            4       1.0       1   \n",
       "4            5       0.0       3   \n",
       "\n",
       "                                                Name     Sex   Age  SibSp  \\\n",
       "0                            Braund, Mr. Owen Harris    male  22.0      1   \n",
       "1  Cumings, Mrs. John Bradley (Florence Briggs Th...  female  38.0      1   \n",
       "2                             Heikkinen, Miss. Laina  female  26.0      0   \n",
       "3       Futrelle, Mrs. Jacques Heath (Lily May Peel)  female  35.0      1   \n",
       "4                           Allen, Mr. William Henry    male  35.0      0   \n",
       "\n",
       "   Parch            Ticket     Fare Cabin Embarked  \n",
       "0      0         A/5 21171   7.2500   NaN        S  \n",
       "1      0          PC 17599  71.2833   C85        C  \n",
       "2      0  STON/O2. 3101282   7.9250   NaN        S  \n",
       "3      0            113803  53.1000  C123        S  \n",
       "4      0            373450   8.0500   NaN        S  "
      ]
     },
     "execution_count": 2,
     "metadata": {},
     "output_type": "execute_result"
    }
   ],
   "source": [
    "#データを読み込む\n",
    "path =\"/kaggle/input/titanic/\"\n",
    "train = pd.read_csv(path + \"train.csv\")\n",
    "test = pd.read_csv(path + \"test.csv\")\n",
    "df = pd.concat([train , test])\n",
    "df.head()"
   ]
  },
  {
   "cell_type": "code",
   "execution_count": 3,
   "id": "24c8a385",
   "metadata": {
    "execution": {
     "iopub.execute_input": "2025-10-19T07:24:53.912852Z",
     "iopub.status.busy": "2025-10-19T07:24:53.912531Z",
     "iopub.status.idle": "2025-10-19T07:24:53.926922Z",
     "shell.execute_reply": "2025-10-19T07:24:53.925963Z"
    },
    "papermill": {
     "duration": 0.020803,
     "end_time": "2025-10-19T07:24:53.928581",
     "exception": false,
     "start_time": "2025-10-19T07:24:53.907778",
     "status": "completed"
    },
    "tags": []
   },
   "outputs": [
    {
     "data": {
      "text/plain": [
       "Title\n",
       "Mr          757\n",
       "Miss        260\n",
       "Mrs         197\n",
       "Master       61\n",
       "Rev           8\n",
       "Dr            8\n",
       "Col           4\n",
       "Mlle          2\n",
       "Major         2\n",
       "Ms            2\n",
       "Lady          1\n",
       "Sir           1\n",
       "Mme           1\n",
       "Don           1\n",
       "Capt          1\n",
       "Countess      1\n",
       "Jonkheer      1\n",
       "Dona          1\n",
       "Name: count, dtype: int64"
      ]
     },
     "execution_count": 3,
     "metadata": {},
     "output_type": "execute_result"
    }
   ],
   "source": [
    "#Nameから敬称を抽出してカウントする\n",
    "Titles = df['Name'].str.extract(r' ([A-Za-z]+)\\.', expand=False)\n",
    "df[\"Title\"] = Titles \n",
    "\n",
    "df[\"Title\"].value_counts()"
   ]
  },
  {
   "cell_type": "code",
   "execution_count": 4,
   "id": "3f7ecff0",
   "metadata": {
    "execution": {
     "iopub.execute_input": "2025-10-19T07:24:53.938530Z",
     "iopub.status.busy": "2025-10-19T07:24:53.937645Z",
     "iopub.status.idle": "2025-10-19T07:24:53.958516Z",
     "shell.execute_reply": "2025-10-19T07:24:53.957163Z"
    },
    "papermill": {
     "duration": 0.027523,
     "end_time": "2025-10-19T07:24:53.960172",
     "exception": false,
     "start_time": "2025-10-19T07:24:53.932649",
     "status": "completed"
    },
    "tags": []
   },
   "outputs": [
    {
     "name": "stdout",
     "output_type": "stream",
     "text": [
      "Title\n",
      "Mr        757\n",
      "Miss      264\n",
      "Mrs       199\n",
      "Master     61\n",
      "Rare       28\n",
      "Name: count, dtype: int64\n",
      "<class 'pandas.core.series.Series'>\n",
      "Index: 1309 entries, 0 to 417\n",
      "Series name: Title\n",
      "Non-Null Count  Dtype \n",
      "--------------  ----- \n",
      "1309 non-null   object\n",
      "dtypes: object(1)\n",
      "memory usage: 20.5+ KB\n",
      "None\n"
     ]
    }
   ],
   "source": [
    "#敬称をまとめる\n",
    "df[\"Title\"] = df[\"Title\"].replace([\"Mlle\",\"Ms\"] ,\"Miss\")\n",
    "df[\"Title\"] = df[\"Title\"].replace([\"Mme\",\"Lady\"] ,\"Mrs\")\n",
    "df[\"Title\"] = df[\"Title\"].replace([\"Dona\" , \"Countess\" , \"Dr\",\"Rev\" , \"Don\" , \"Major\" , \"Col\" , \"Sir\" , \"Capt\" , \"Jonkheer\"] ,\"Rare\")\n",
    "print(df[\"Title\"].value_counts())\n",
    "print(df['Title'].info())"
   ]
  },
  {
   "cell_type": "code",
   "execution_count": 5,
   "id": "9ed95ef8",
   "metadata": {
    "execution": {
     "iopub.execute_input": "2025-10-19T07:24:53.969913Z",
     "iopub.status.busy": "2025-10-19T07:24:53.969613Z",
     "iopub.status.idle": "2025-10-19T07:24:54.247054Z",
     "shell.execute_reply": "2025-10-19T07:24:54.246236Z"
    },
    "papermill": {
     "duration": 0.284047,
     "end_time": "2025-10-19T07:24:54.248548",
     "exception": false,
     "start_time": "2025-10-19T07:24:53.964501",
     "status": "completed"
    },
    "tags": []
   },
   "outputs": [
    {
     "name": "stdout",
     "output_type": "stream",
     "text": [
      "Fare\n",
      "8.0500     60\n",
      "13.0000    59\n",
      "7.7500     55\n",
      "26.0000    50\n",
      "7.8958     49\n",
      "           ..\n",
      "7.7417      1\n",
      "8.1583      1\n",
      "8.4583      1\n",
      "7.8000      1\n",
      "7.7208      1\n",
      "Name: count, Length: 281, dtype: int64\n",
      "(array([732., 275.,  64.,  69.,  69.,  16.,  13.,  15.,  14.,   4.,   0.,\n",
      "         0.,  13.,   5.,   3.,  13.,   0.,   0.,   0.,   0.,   0.,   0.,\n",
      "         0.,   0.,   0.,   0.,   0.,   0.,   0.,   4.]), array([  0.     ,  17.07764,  34.15528,  51.23292,  68.31056,  85.3882 ,\n",
      "       102.46584, 119.54348, 136.62112, 153.69876, 170.7764 , 187.85404,\n",
      "       204.93168, 222.00932, 239.08696, 256.1646 , 273.24224, 290.31988,\n",
      "       307.39752, 324.47516, 341.5528 , 358.63044, 375.70808, 392.78572,\n",
      "       409.86336, 426.941  , 444.01864, 461.09628, 478.17392, 495.25156,\n",
      "       512.3292 ]), <BarContainer object of 30 artists>)\n"
     ]
    },
    {
     "data": {
      "image/png": "[encoded data removed]",
      "text/plain": [
       "<Figure size 640x480 with 1 Axes>"
      ]
     },
     "metadata": {},
     "output_type": "display_data"
    }
   ],
   "source": [
    "#欠損値を埋める。Fareをとりあえず中央値で埋める。\n",
    "df[\"Fare\"] = df[\"Fare\"].fillna(df[\"Fare\"].median())\n",
    "print(df['Fare'].value_counts())\n",
    "print(plt.hist(data=df , x=\"Fare\", bins=30))"
   ]
  },
  {
   "cell_type": "code",
   "execution_count": 6,
   "id": "2f093115",
   "metadata": {
    "execution": {
     "iopub.execute_input": "2025-10-19T07:24:54.259232Z",
     "iopub.status.busy": "2025-10-19T07:24:54.258442Z",
     "iopub.status.idle": "2025-10-19T07:24:54.272648Z",
     "shell.execute_reply": "2025-10-19T07:24:54.271445Z"
    },
    "papermill": {
     "duration": 0.021436,
     "end_time": "2025-10-19T07:24:54.274413",
     "exception": false,
     "start_time": "2025-10-19T07:24:54.252977",
     "status": "completed"
    },
    "tags": []
   },
   "outputs": [
    {
     "name": "stdout",
     "output_type": "stream",
     "text": [
      "Age\n",
      "29.0    206\n",
      "22.0     94\n",
      "24.0     47\n",
      "21.0     41\n",
      "30.0     40\n",
      "       ... \n",
      "23.5      1\n",
      "20.5      1\n",
      "55.5      1\n",
      "66.0      1\n",
      "38.5      1\n",
      "Name: count, Length: 99, dtype: int64\n"
     ]
    }
   ],
   "source": [
    "#AgeはTitleごとの中央値で埋める\n",
    "df[\"Age\"] = df[\"Age\"].fillna(df.groupby(\"Title\")[\"Age\"].transform(\"median\"))\n",
    "df.isnull().sum()\n",
    "print(df[\"Age\"].value_counts())"
   ]
  },
  {
   "cell_type": "code",
   "execution_count": 7,
   "id": "a8addc14",
   "metadata": {
    "execution": {
     "iopub.execute_input": "2025-10-19T07:24:54.284547Z",
     "iopub.status.busy": "2025-10-19T07:24:54.283914Z",
     "iopub.status.idle": "2025-10-19T07:24:54.310848Z",
     "shell.execute_reply": "2025-10-19T07:24:54.309932Z"
    },
    "papermill": {
     "duration": 0.033921,
     "end_time": "2025-10-19T07:24:54.312649",
     "exception": false,
     "start_time": "2025-10-19T07:24:54.278728",
     "status": "completed"
    },
    "tags": []
   },
   "outputs": [
    {
     "data": {
      "text/html": [
       "<div>\n",
       "<style scoped>\n",
       "    .dataframe tbody tr th:only-of-type {\n",
       "        vertical-align: middle;\n",
       "    }\n",
       "\n",
       "    .dataframe tbody tr th {\n",
       "        vertical-align: top;\n",
       "    }\n",
       "\n",
       "    .dataframe thead th {\n",
       "        text-align: right;\n",
       "    }\n",
       "</style>\n",
       "<table border=\"1\" class=\"dataframe\">\n",
       "  <thead>\n",
       "    <tr style=\"text-align: right;\">\n",
       "      <th></th>\n",
       "      <th>PassengerId</th>\n",
       "      <th>Survived</th>\n",
       "      <th>Pclass</th>\n",
       "      <th>Age</th>\n",
       "      <th>SibSp</th>\n",
       "      <th>Parch</th>\n",
       "      <th>Fare</th>\n",
       "      <th>Famsize</th>\n",
       "      <th>Isalone</th>\n",
       "      <th>Emb_C</th>\n",
       "      <th>Emb_Q</th>\n",
       "      <th>Emb_S</th>\n",
       "      <th>Sex_female</th>\n",
       "      <th>Title_Master</th>\n",
       "      <th>Title_Miss</th>\n",
       "      <th>Title_Mr</th>\n",
       "      <th>Title_Mrs</th>\n",
       "      <th>Title_Rare</th>\n",
       "    </tr>\n",
       "  </thead>\n",
       "  <tbody>\n",
       "    <tr>\n",
       "      <th>0</th>\n",
       "      <td>1</td>\n",
       "      <td>0.0</td>\n",
       "      <td>3</td>\n",
       "      <td>22.0</td>\n",
       "      <td>1</td>\n",
       "      <td>0</td>\n",
       "      <td>7.2500</td>\n",
       "      <td>2</td>\n",
       "      <td>False</td>\n",
       "      <td>False</td>\n",
       "      <td>False</td>\n",
       "      <td>True</td>\n",
       "      <td>False</td>\n",
       "      <td>False</td>\n",
       "      <td>False</td>\n",
       "      <td>True</td>\n",
       "      <td>False</td>\n",
       "      <td>False</td>\n",
       "    </tr>\n",
       "    <tr>\n",
       "      <th>1</th>\n",
       "      <td>2</td>\n",
       "      <td>1.0</td>\n",
       "      <td>1</td>\n",
       "      <td>38.0</td>\n",
       "      <td>1</td>\n",
       "      <td>0</td>\n",
       "      <td>71.2833</td>\n",
       "      <td>2</td>\n",
       "      <td>False</td>\n",
       "      <td>True</td>\n",
       "      <td>False</td>\n",
       "      <td>False</td>\n",
       "      <td>True</td>\n",
       "      <td>False</td>\n",
       "      <td>False</td>\n",
       "      <td>False</td>\n",
       "      <td>True</td>\n",
       "      <td>False</td>\n",
       "    </tr>\n",
       "    <tr>\n",
       "      <th>2</th>\n",
       "      <td>3</td>\n",
       "      <td>1.0</td>\n",
       "      <td>3</td>\n",
       "      <td>26.0</td>\n",
       "      <td>0</td>\n",
       "      <td>0</td>\n",
       "      <td>7.9250</td>\n",
       "      <td>1</td>\n",
       "      <td>True</td>\n",
       "      <td>False</td>\n",
       "      <td>False</td>\n",
       "      <td>True</td>\n",
       "      <td>True</td>\n",
       "      <td>False</td>\n",
       "      <td>True</td>\n",
       "      <td>False</td>\n",
       "      <td>False</td>\n",
       "      <td>False</td>\n",
       "    </tr>\n",
       "    <tr>\n",
       "      <th>3</th>\n",
       "      <td>4</td>\n",
       "      <td>1.0</td>\n",
       "      <td>1</td>\n",
       "      <td>35.0</td>\n",
       "      <td>1</td>\n",
       "      <td>0</td>\n",
       "      <td>53.1000</td>\n",
       "      <td>2</td>\n",
       "      <td>False</td>\n",
       "      <td>False</td>\n",
       "      <td>False</td>\n",
       "      <td>True</td>\n",
       "      <td>True</td>\n",
       "      <td>False</td>\n",
       "      <td>False</td>\n",
       "      <td>False</td>\n",
       "      <td>True</td>\n",
       "      <td>False</td>\n",
       "    </tr>\n",
       "    <tr>\n",
       "      <th>4</th>\n",
       "      <td>5</td>\n",
       "      <td>0.0</td>\n",
       "      <td>3</td>\n",
       "      <td>35.0</td>\n",
       "      <td>0</td>\n",
       "      <td>0</td>\n",
       "      <td>8.0500</td>\n",
       "      <td>1</td>\n",
       "      <td>True</td>\n",
       "      <td>False</td>\n",
       "      <td>False</td>\n",
       "      <td>True</td>\n",
       "      <td>False</td>\n",
       "      <td>False</td>\n",
       "      <td>False</td>\n",
       "      <td>True</td>\n",
       "      <td>False</td>\n",
       "      <td>False</td>\n",
       "    </tr>\n",
       "  </tbody>\n",
       "</table>\n",
       "</div>"
      ],
      "text/plain": [
       "   PassengerId  Survived  Pclass   Age  SibSp  Parch     Fare  Famsize  \\\n",
       "0            1       0.0       3  22.0      1      0   7.2500        2   \n",
       "1            2       1.0       1  38.0      1      0  71.2833        2   \n",
       "2            3       1.0       3  26.0      0      0   7.9250        1   \n",
       "3            4       1.0       1  35.0      1      0  53.1000        2   \n",
       "4            5       0.0       3  35.0      0      0   8.0500        1   \n",
       "\n",
       "   Isalone  Emb_C  Emb_Q  Emb_S  Sex_female  Title_Master  Title_Miss  \\\n",
       "0    False  False  False   True       False         False       False   \n",
       "1    False   True  False  False        True         False       False   \n",
       "2     True  False  False   True        True         False        True   \n",
       "3    False  False  False   True        True         False       False   \n",
       "4     True  False  False   True       False         False       False   \n",
       "\n",
       "   Title_Mr  Title_Mrs  Title_Rare  \n",
       "0      True      False       False  \n",
       "1     False       True       False  \n",
       "2     False      False       False  \n",
       "3     False       True       False  \n",
       "4      True      False       False  "
      ]
     },
     "execution_count": 7,
     "metadata": {},
     "output_type": "execute_result"
    }
   ],
   "source": [
    "#特徴量エンジニアリング\n",
    "#EmbarkedとSexとTitleをワンホットエンコーディングする。\n",
    "emb = pd.get_dummies(df[\"Embarked\"],prefix=\"Emb\")\n",
    "sx = pd.get_dummies(df[\"Sex\"],prefix=\"Sex\")\n",
    "ttl = pd.get_dummies(df[\"Title\"],prefix=\"Title\")\n",
    "\n",
    "#新しい特徴量として、FamsizeとIsaloneを追加する。\n",
    "df[\"Famsize\"] = df[\"SibSp\"] + df[\"Parch\"] + 1\n",
    "df[\"Isalone\"] = df[\"Famsize\"]==1\n",
    "\n",
    "#追加した特徴量をデータフレームへ統合する。不要なカラムは削除する。\n",
    "df2 = pd.concat([df, emb, sx, ttl],axis=1)\n",
    "df3 = df2.drop(columns=[\"Sex_male\", \"Sex\", \"Embarked\", \"Title\", \"Cabin\", \"Ticket\" , \"Name\"])\n",
    "\n",
    "df3.head()"
   ]
  },
  {
   "cell_type": "code",
   "execution_count": 8,
   "id": "8182259e",
   "metadata": {
    "execution": {
     "iopub.execute_input": "2025-10-19T07:24:54.323716Z",
     "iopub.status.busy": "2025-10-19T07:24:54.323112Z",
     "iopub.status.idle": "2025-10-19T07:24:54.335238Z",
     "shell.execute_reply": "2025-10-19T07:24:54.333937Z"
    },
    "papermill": {
     "duration": 0.019371,
     "end_time": "2025-10-19T07:24:54.336873",
     "exception": false,
     "start_time": "2025-10-19T07:24:54.317502",
     "status": "completed"
    },
    "tags": []
   },
   "outputs": [
    {
     "name": "stdout",
     "output_type": "stream",
     "text": [
      "<class 'pandas.core.series.Series'>\n",
      "Index: 891 entries, 0 to 890\n",
      "Series name: Survived\n",
      "Non-Null Count  Dtype  \n",
      "--------------  -----  \n",
      "891 non-null    float64\n",
      "dtypes: float64(1)\n",
      "memory usage: 13.9 KB\n"
     ]
    }
   ],
   "source": [
    "#機械学習モデルに投入するデータを作成する。\n",
    "train_df = df3[~df3[\"Survived\"].isnull()]\n",
    "test_df = df3[df3[\"Survived\"].isnull()]\n",
    "\n",
    "train_x = train_df.drop(columns=[\"Survived\"])\n",
    "train_y = train_df[\"Survived\"]\n",
    "train_y.info()"
   ]
  },
  {
   "cell_type": "markdown",
   "id": "ab0ee840",
   "metadata": {
    "papermill": {
     "duration": 0.004487,
     "end_time": "2025-10-19T07:24:54.346031",
     "exception": false,
     "start_time": "2025-10-19T07:24:54.341544",
     "status": "completed"
    },
    "tags": []
   },
   "source": [
    "# ↓ランダムフォレスト"
   ]
  },
  {
   "cell_type": "code",
   "execution_count": 9,
   "id": "918dd59e",
   "metadata": {
    "execution": {
     "iopub.execute_input": "2025-10-19T07:24:54.356537Z",
     "iopub.status.busy": "2025-10-19T07:24:54.356124Z",
     "iopub.status.idle": "2025-10-19T07:24:54.361104Z",
     "shell.execute_reply": "2025-10-19T07:24:54.360175Z"
    },
    "papermill": {
     "duration": 0.012151,
     "end_time": "2025-10-19T07:24:54.362733",
     "exception": false,
     "start_time": "2025-10-19T07:24:54.350582",
     "status": "completed"
    },
    "tags": []
   },
   "outputs": [],
   "source": [
    "# ランダムフォレストモデル（分類器）の定義\n",
    "# n_estimators: 使用する決定木の数（一般的に多いほど性能が向上するが、計算時間が増える）\n",
    "# max_depth: 決定木の深さの最大値（過学習を防ぐために設定することが多い）\n",
    "rf_model = RandomForestClassifier(\n",
    "    n_estimators=200,      # 適切な木の本数\n",
    "    max_depth=7,           # 深さを制限（過学習対策）\n",
    "    min_samples_split=10,  # 分岐の条件を厳しくする\n",
    "    min_samples_leaf=5,    # 葉のサイズを大きくする\n",
    "    random_state=42,\n",
    "    n_jobs=-1\n",
    ")"
   ]
  },
  {
   "cell_type": "markdown",
   "id": "080b5e15",
   "metadata": {
    "papermill": {
     "duration": 0.004324,
     "end_time": "2025-10-19T07:24:54.371835",
     "exception": false,
     "start_time": "2025-10-19T07:24:54.367511",
     "status": "completed"
    },
    "tags": []
   },
   "source": [
    "# **↓LithtGBM**"
   ]
  },
  {
   "cell_type": "code",
   "execution_count": 10,
   "id": "b008a261",
   "metadata": {
    "execution": {
     "iopub.execute_input": "2025-10-19T07:24:54.382266Z",
     "iopub.status.busy": "2025-10-19T07:24:54.381831Z",
     "iopub.status.idle": "2025-10-19T07:24:54.386512Z",
     "shell.execute_reply": "2025-10-19T07:24:54.385691Z"
    },
    "papermill": {
     "duration": 0.011518,
     "end_time": "2025-10-19T07:24:54.387857",
     "exception": false,
     "start_time": "2025-10-19T07:24:54.376339",
     "status": "completed"
    },
    "tags": []
   },
   "outputs": [],
   "source": [
    "#機械学習モデルを呼び出し、学習を行う。\n",
    "lgb_model = lgb.LGBMClassifier(\n",
    "    objective='binary',\n",
    "    learning_rate=0.03,    # 低めに設定\n",
    "    n_estimators=150,      # 試行回数\n",
    "    num_leaves=8,          # 浅い木に制限（過学習対策）\n",
    "    max_depth=5,           # 深さの制限\n",
    "    random_state=42,\n",
    ")"
   ]
  },
  {
   "cell_type": "code",
   "execution_count": 11,
   "id": "09df1ee0",
   "metadata": {
    "execution": {
     "iopub.execute_input": "2025-10-19T07:24:54.398440Z",
     "iopub.status.busy": "2025-10-19T07:24:54.397962Z",
     "iopub.status.idle": "2025-10-19T07:24:54.487851Z",
     "shell.execute_reply": "2025-10-19T07:24:54.486835Z"
    },
    "papermill": {
     "duration": 0.096861,
     "end_time": "2025-10-19T07:24:54.489396",
     "exception": false,
     "start_time": "2025-10-19T07:24:54.392535",
     "status": "completed"
    },
    "tags": []
   },
   "outputs": [
    {
     "name": "stdout",
     "output_type": "stream",
     "text": [
      "[LightGBM] [Info] Number of positive: 342, number of negative: 549\n",
      "[LightGBM] [Info] Auto-choosing row-wise multi-threading, the overhead of testing was 0.001722 seconds.\n",
      "You can set `force_row_wise=true` to remove the overhead.\n",
      "And if memory is not enough, you can set `force_col_wise=true`.\n",
      "[LightGBM] [Info] Total Bins 502\n",
      "[LightGBM] [Info] Number of data points in the train set: 891, number of used features: 17\n",
      "[LightGBM] [Info] [binary:BoostFromScore]: pavg=0.383838 -> initscore=-0.473288\n",
      "[LightGBM] [Info] Start training from score -0.473288\n",
      "学習が完了しました\n"
     ]
    }
   ],
   "source": [
    "#↓どちらのモデルで学習するか、選んでネ！\n",
    "\n",
    "#rf_model.fit(train_x , train_y)\n",
    "lgb_model.fit(train_x , train_y)\n",
    "\n",
    "print(\"学習が完了しました\")"
   ]
  },
  {
   "cell_type": "code",
   "execution_count": 12,
   "id": "69c2275a",
   "metadata": {
    "execution": {
     "iopub.execute_input": "2025-10-19T07:24:54.500675Z",
     "iopub.status.busy": "2025-10-19T07:24:54.500373Z",
     "iopub.status.idle": "2025-10-19T07:24:59.695487Z",
     "shell.execute_reply": "2025-10-19T07:24:59.694001Z"
    },
    "papermill": {
     "duration": 5.202642,
     "end_time": "2025-10-19T07:24:59.697320",
     "exception": false,
     "start_time": "2025-10-19T07:24:54.494678",
     "status": "completed"
    },
    "tags": []
   },
   "outputs": [
    {
     "name": "stdout",
     "output_type": "stream",
     "text": [
      "各分割での精度スコア (5-Fold): [0.84357542 0.83707865 0.80898876 0.82022472 0.81460674]\n",
      "----------------------------------------\n",
      "平均精度 (Mean Accuracy): 0.8249\n",
      "スコアの標準偏差 (Std Dev): 0.0133\n"
     ]
    }
   ],
   "source": [
    "#交差検証を開始する。5分割がよさそう。\n",
    "N_SPLITS = 5\n",
    "skf = StratifiedKFold(n_splits=N_SPLITS, shuffle=True, random_state=42)\n",
    "\n",
    "# cross_val_scoreで精度（accuracy）を計算\n",
    "# scoring='accuracy' はタイタニックの評価指標\n",
    "accuracy_scores = cross_val_score(\n",
    "    estimator=lgb_model, \n",
    "    X=train_x, \n",
    "    y=train_y, \n",
    "    cv=skf, \n",
    "    scoring='accuracy',\n",
    "    n_jobs=-1 # 全てのコアを使って並列処理（高速化）\n",
    ")\n",
    "\n",
    "# 結果の表示\n",
    "print(f\"各分割での精度スコア ({N_SPLITS}-Fold): {accuracy_scores}\")\n",
    "print(f\"----------------------------------------\")\n",
    "print(f\"平均精度 (Mean Accuracy): {accuracy_scores.mean():.4f}\")\n",
    "print(f\"スコアの標準偏差 (Std Dev): {accuracy_scores.std():.4f}\")"
   ]
  },
  {
   "cell_type": "code",
   "execution_count": 13,
   "id": "32771506",
   "metadata": {
    "execution": {
     "iopub.execute_input": "2025-10-19T07:24:59.709345Z",
     "iopub.status.busy": "2025-10-19T07:24:59.708917Z",
     "iopub.status.idle": "2025-10-19T07:24:59.728272Z",
     "shell.execute_reply": "2025-10-19T07:24:59.727139Z"
    },
    "papermill": {
     "duration": 0.027388,
     "end_time": "2025-10-19T07:24:59.729941",
     "exception": false,
     "start_time": "2025-10-19T07:24:59.702553",
     "status": "completed"
    },
    "tags": []
   },
   "outputs": [
    {
     "name": "stderr",
     "output_type": "stream",
     "text": [
      "/usr/local/lib/python3.11/dist-packages/pandas/io/formats/format.py:1458: RuntimeWarning: invalid value encountered in greater\n",
      "  has_large_values = (abs_vals > 1e6).any()\n",
      "/usr/local/lib/python3.11/dist-packages/pandas/io/formats/format.py:1459: RuntimeWarning: invalid value encountered in less\n",
      "  has_small_values = ((abs_vals < 10 ** (-self.digits)) & (abs_vals > 0)).any()\n",
      "/usr/local/lib/python3.11/dist-packages/pandas/io/formats/format.py:1459: RuntimeWarning: invalid value encountered in greater\n",
      "  has_small_values = ((abs_vals < 10 ** (-self.digits)) & (abs_vals > 0)).any()\n"
     ]
    },
    {
     "data": {
      "text/html": [
       "<div>\n",
       "<style scoped>\n",
       "    .dataframe tbody tr th:only-of-type {\n",
       "        vertical-align: middle;\n",
       "    }\n",
       "\n",
       "    .dataframe tbody tr th {\n",
       "        vertical-align: top;\n",
       "    }\n",
       "\n",
       "    .dataframe thead th {\n",
       "        text-align: right;\n",
       "    }\n",
       "</style>\n",
       "<table border=\"1\" class=\"dataframe\">\n",
       "  <thead>\n",
       "    <tr style=\"text-align: right;\">\n",
       "      <th></th>\n",
       "      <th>PassengerId</th>\n",
       "      <th>Survived</th>\n",
       "      <th>Pclass</th>\n",
       "      <th>Age</th>\n",
       "      <th>SibSp</th>\n",
       "      <th>Parch</th>\n",
       "      <th>Fare</th>\n",
       "      <th>Famsize</th>\n",
       "      <th>Isalone</th>\n",
       "      <th>Emb_C</th>\n",
       "      <th>Emb_Q</th>\n",
       "      <th>Emb_S</th>\n",
       "      <th>Sex_female</th>\n",
       "      <th>Title_Master</th>\n",
       "      <th>Title_Miss</th>\n",
       "      <th>Title_Mr</th>\n",
       "      <th>Title_Mrs</th>\n",
       "      <th>Title_Rare</th>\n",
       "    </tr>\n",
       "  </thead>\n",
       "  <tbody>\n",
       "    <tr>\n",
       "      <th>413</th>\n",
       "      <td>1305</td>\n",
       "      <td>NaN</td>\n",
       "      <td>3</td>\n",
       "      <td>29.0</td>\n",
       "      <td>0</td>\n",
       "      <td>0</td>\n",
       "      <td>8.0500</td>\n",
       "      <td>1</td>\n",
       "      <td>True</td>\n",
       "      <td>False</td>\n",
       "      <td>False</td>\n",
       "      <td>True</td>\n",
       "      <td>False</td>\n",
       "      <td>False</td>\n",
       "      <td>False</td>\n",
       "      <td>True</td>\n",
       "      <td>False</td>\n",
       "      <td>False</td>\n",
       "    </tr>\n",
       "    <tr>\n",
       "      <th>414</th>\n",
       "      <td>1306</td>\n",
       "      <td>NaN</td>\n",
       "      <td>1</td>\n",
       "      <td>39.0</td>\n",
       "      <td>0</td>\n",
       "      <td>0</td>\n",
       "      <td>108.9000</td>\n",
       "      <td>1</td>\n",
       "      <td>True</td>\n",
       "      <td>True</td>\n",
       "      <td>False</td>\n",
       "      <td>False</td>\n",
       "      <td>True</td>\n",
       "      <td>False</td>\n",
       "      <td>False</td>\n",
       "      <td>False</td>\n",
       "      <td>False</td>\n",
       "      <td>True</td>\n",
       "    </tr>\n",
       "    <tr>\n",
       "      <th>415</th>\n",
       "      <td>1307</td>\n",
       "      <td>NaN</td>\n",
       "      <td>3</td>\n",
       "      <td>38.5</td>\n",
       "      <td>0</td>\n",
       "      <td>0</td>\n",
       "      <td>7.2500</td>\n",
       "      <td>1</td>\n",
       "      <td>True</td>\n",
       "      <td>False</td>\n",
       "      <td>False</td>\n",
       "      <td>True</td>\n",
       "      <td>False</td>\n",
       "      <td>False</td>\n",
       "      <td>False</td>\n",
       "      <td>True</td>\n",
       "      <td>False</td>\n",
       "      <td>False</td>\n",
       "    </tr>\n",
       "    <tr>\n",
       "      <th>416</th>\n",
       "      <td>1308</td>\n",
       "      <td>NaN</td>\n",
       "      <td>3</td>\n",
       "      <td>29.0</td>\n",
       "      <td>0</td>\n",
       "      <td>0</td>\n",
       "      <td>8.0500</td>\n",
       "      <td>1</td>\n",
       "      <td>True</td>\n",
       "      <td>False</td>\n",
       "      <td>False</td>\n",
       "      <td>True</td>\n",
       "      <td>False</td>\n",
       "      <td>False</td>\n",
       "      <td>False</td>\n",
       "      <td>True</td>\n",
       "      <td>False</td>\n",
       "      <td>False</td>\n",
       "    </tr>\n",
       "    <tr>\n",
       "      <th>417</th>\n",
       "      <td>1309</td>\n",
       "      <td>NaN</td>\n",
       "      <td>3</td>\n",
       "      <td>4.0</td>\n",
       "      <td>1</td>\n",
       "      <td>1</td>\n",
       "      <td>22.3583</td>\n",
       "      <td>3</td>\n",
       "      <td>False</td>\n",
       "      <td>True</td>\n",
       "      <td>False</td>\n",
       "      <td>False</td>\n",
       "      <td>False</td>\n",
       "      <td>True</td>\n",
       "      <td>False</td>\n",
       "      <td>False</td>\n",
       "      <td>False</td>\n",
       "      <td>False</td>\n",
       "    </tr>\n",
       "  </tbody>\n",
       "</table>\n",
       "</div>"
      ],
      "text/plain": [
       "     PassengerId  Survived  Pclass   Age  SibSp  Parch      Fare  Famsize  \\\n",
       "413         1305       NaN       3  29.0      0      0    8.0500        1   \n",
       "414         1306       NaN       1  39.0      0      0  108.9000        1   \n",
       "415         1307       NaN       3  38.5      0      0    7.2500        1   \n",
       "416         1308       NaN       3  29.0      0      0    8.0500        1   \n",
       "417         1309       NaN       3   4.0      1      1   22.3583        3   \n",
       "\n",
       "     Isalone  Emb_C  Emb_Q  Emb_S  Sex_female  Title_Master  Title_Miss  \\\n",
       "413     True  False  False   True       False         False       False   \n",
       "414     True   True  False  False        True         False       False   \n",
       "415     True  False  False   True       False         False       False   \n",
       "416     True  False  False   True       False         False       False   \n",
       "417    False   True  False  False       False          True       False   \n",
       "\n",
       "     Title_Mr  Title_Mrs  Title_Rare  \n",
       "413      True      False       False  \n",
       "414     False      False        True  \n",
       "415      True      False       False  \n",
       "416      True      False       False  \n",
       "417     False      False       False  "
      ]
     },
     "execution_count": 13,
     "metadata": {},
     "output_type": "execute_result"
    }
   ],
   "source": [
    "test_df.tail()"
   ]
  },
  {
   "cell_type": "code",
   "execution_count": 14,
   "id": "64b9b10a",
   "metadata": {
    "execution": {
     "iopub.execute_input": "2025-10-19T07:24:59.741814Z",
     "iopub.status.busy": "2025-10-19T07:24:59.741518Z",
     "iopub.status.idle": "2025-10-19T07:24:59.747745Z",
     "shell.execute_reply": "2025-10-19T07:24:59.746750Z"
    },
    "papermill": {
     "duration": 0.013543,
     "end_time": "2025-10-19T07:24:59.749009",
     "exception": false,
     "start_time": "2025-10-19T07:24:59.735466",
     "status": "completed"
    },
    "tags": []
   },
   "outputs": [
    {
     "name": "stdout",
     "output_type": "stream",
     "text": [
      "予測用データの作成が完了しました\n"
     ]
    }
   ],
   "source": [
    "#予測用データの作成をする\n",
    "test_x = test_df.drop(columns=[\"Survived\"])\n",
    "test_y = test_df[\"Survived\"]\n",
    "print(\"予測用データの作成が完了しました\")"
   ]
  },
  {
   "cell_type": "code",
   "execution_count": 15,
   "id": "74388790",
   "metadata": {
    "execution": {
     "iopub.execute_input": "2025-10-19T07:24:59.760769Z",
     "iopub.status.busy": "2025-10-19T07:24:59.760489Z",
     "iopub.status.idle": "2025-10-19T07:24:59.776492Z",
     "shell.execute_reply": "2025-10-19T07:24:59.775443Z"
    },
    "papermill": {
     "duration": 0.023651,
     "end_time": "2025-10-19T07:24:59.777980",
     "exception": false,
     "start_time": "2025-10-19T07:24:59.754329",
     "status": "completed"
    },
    "tags": []
   },
   "outputs": [
    {
     "name": "stdout",
     "output_type": "stream",
     "text": [
      "書き出しが完了しました\n"
     ]
    }
   ],
   "source": [
    "#学習したパラメータをテストデータへ適用して予測する。\n",
    "test_y = lgb_model.predict(test_x)\n",
    "\n",
    "#提出用のデータを作る。\n",
    "submission_df = pd.DataFrame({\n",
    "    \"PassengerId\" : test_df[\"PassengerId\"],\n",
    "    \"Survived\" : test_y.astype(int)\n",
    "})\n",
    "\n",
    "#csvで書き出す\n",
    "submission_df.to_csv(\"first_submission11.csv\" , index=False)\n",
    "print(\"書き出しが完了しました\")"
   ]
  },
  {
   "cell_type": "code",
   "execution_count": 16,
   "id": "36912624",
   "metadata": {
    "execution": {
     "iopub.execute_input": "2025-10-19T07:24:59.789958Z",
     "iopub.status.busy": "2025-10-19T07:24:59.789659Z",
     "iopub.status.idle": "2025-10-19T07:24:59.800193Z",
     "shell.execute_reply": "2025-10-19T07:24:59.799235Z"
    },
    "papermill": {
     "duration": 0.018157,
     "end_time": "2025-10-19T07:24:59.801498",
     "exception": false,
     "start_time": "2025-10-19T07:24:59.783341",
     "status": "completed"
    },
    "tags": []
   },
   "outputs": [
    {
     "name": "stdout",
     "output_type": "stream",
     "text": [
      "<class 'pandas.core.frame.DataFrame'>\n",
      "Index: 418 entries, 0 to 417\n",
      "Data columns (total 2 columns):\n",
      " #   Column       Non-Null Count  Dtype\n",
      "---  ------       --------------  -----\n",
      " 0   PassengerId  418 non-null    int64\n",
      " 1   Survived     418 non-null    int64\n",
      "dtypes: int64(2)\n",
      "memory usage: 9.8 KB\n"
     ]
    }
   ],
   "source": [
    "submission_df.info()"
   ]
  },
  {
   "cell_type": "markdown",
   "id": "cf8305ff",
   "metadata": {
    "papermill": {
     "duration": 0.004952,
     "end_time": "2025-10-19T07:24:59.811718",
     "exception": false,
     "start_time": "2025-10-19T07:24:59.806766",
     "status": "completed"
    },
    "tags": []
   },
   "source": [
    "次：ランダムフォレストに変えてみる→LithtGBMよりスコアが伸びなそう。\n",
    "ハイパーパラメータチューニングを頑張ってみる。"
   ]
  }
 ],
 "metadata": {
  "kaggle": {
   "accelerator": "none",
   "dataSources": [
    {
     "databundleVersionId": 26502,
     "sourceId": 3136,
     "sourceType": "competition"
    }
   ],
   "dockerImageVersionId": 31153,
   "isGpuEnabled": false,
   "isInternetEnabled": true,
   "language": "python",
   "sourceType": "notebook"
  },
  "kernelspec": {
   "display_name": "Python 3",
   "language": "python",
   "name": "python3"
  },
  "language_info": {
   "codemirror_mode": {
    "name": "ipython",
    "version": 3
   },
   "file_extension": ".py",
   "mimetype": "text/x-python",
   "name": "python",
   "nbconvert_exporter": "python",
   "pygments_lexer": "ipython3",
   "version": "3.11.13"
  },
  "papermill": {
   "default_parameters": {},
   "duration": 23.639427,
   "end_time": "2025-10-19T07:25:02.437906",
   "environment_variables": {},
   "exception": null,
   "input_path": "__notebook__.ipynb",
   "output_path": "__notebook__.ipynb",
   "parameters": {},
   "start_time": "2025-10-19T07:24:38.798479",
   "version": "2.6.0"
  }
 },
 "nbformat": 4,
 "nbformat_minor": 5
}
